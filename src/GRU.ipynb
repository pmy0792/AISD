{
  "nbformat": 4,
  "nbformat_minor": 0,
  "metadata": {
    "colab": {
      "name": "GRU.ipynb",
      "provenance": []
    },
    "kernelspec": {
      "name": "python3",
      "display_name": "Python 3"
    },
    "language_info": {
      "name": "python"
    },
    "accelerator": "GPU"
  },
  "cells": [
    {
      "cell_type": "code",
      "execution_count": null,
      "metadata": {
        "colab": {
          "base_uri": "https://localhost:8080/"
        },
        "id": "ACVfKJb7zySj",
        "outputId": "c75281f4-59b7-4ffc-ad76-d8afa01dae32"
      },
      "outputs": [
        {
          "output_type": "stream",
          "name": "stdout",
          "text": [
            "Mounted at /content/drive\n"
          ]
        }
      ],
      "source": [
        "from google.colab import drive\n",
        "drive.mount('/content/drive')"
      ]
    },
    {
      "cell_type": "code",
      "source": [
        "import pandas as pd\n",
        "import numpy as np\n",
        "import seaborn as sns\n",
        "import matplotlib.pyplot as plt\n",
        "from sklearn.model_selection import train_test_split\n",
        "from sklearn.metrics import accuracy_score\n",
        "\n",
        "from tensorflow.keras import Sequential\n",
        "from tensorflow.keras.layers import Dense, GRU, Dropout\n",
        "from sklearn.metrics import confusion_matrix\n",
        "from matplotlib import pyplot as plt\n",
        "from sklearn.metrics import mean_absolute_error"
      ],
      "metadata": {
        "id": "WGNqqsE_z8FH"
      },
      "execution_count": null,
      "outputs": []
    },
    {
      "cell_type": "code",
      "source": [
        "df=pd.read_csv('/content/drive/MyDrive/Colab Notebooks/data_without_outliers.csv')\n",
        "\n",
        "X=df.drop(columns=['class'])\n",
        "y=df['class']\n",
        "\n",
        "train_split_ratio=0.8\n",
        "train_rows=round(X.shape[0]*train_split_ratio)\n",
        "\n",
        "\n",
        "df['class'].replace(\"UP\", 1, inplace=True)   \n",
        "df['class'].replace(\"DOWN\", 0, inplace=True)\n",
        "df=df.drop(columns=['id','date'])\n",
        "\n",
        "\n",
        "train=df[:train_rows]\n",
        "test=df[:train_rows]\n",
        "\n",
        "X_train=X[:train_rows]\n",
        "y_train=y[:train_rows]\n",
        "\n",
        "X_test=X[train_rows:]\n",
        "y_test=y[train_rows:]"
      ],
      "metadata": {
        "id": "lo0Lz354z90v"
      },
      "execution_count": null,
      "outputs": []
    },
    {
      "cell_type": "code",
      "source": [
        "print(y)"
      ],
      "metadata": {
        "id": "dm8LPSSg4IKR",
        "outputId": "2ca525ee-6de1-4f50-d5da-62495fe2c05f",
        "colab": {
          "base_uri": "https://localhost:8080/"
        }
      },
      "execution_count": null,
      "outputs": [
        {
          "output_type": "stream",
          "name": "stdout",
          "text": [
            "[1 1 1 ... 0 0 1]\n"
          ]
        }
      ]
    },
    {
      "cell_type": "code",
      "source": [
        "def generate_data(X, y, sequence_length = 10, step = 1):\n",
        "    X_local = []\n",
        "    y_local = []\n",
        "    for start in range(0, len(df) - sequence_length, step):\n",
        "        end = start + sequence_length\n",
        "        X_local.append(X[start:end])\n",
        "        y_local.append(y[end-1])\n",
        "    return np.array(X_local), np.array(y_local)"
      ],
      "metadata": {
        "id": "_Bt6tM398o9E"
      },
      "execution_count": null,
      "outputs": []
    },
    {
      "cell_type": "code",
      "source": [
        "X_sequence, y = generate_data(df.loc[:,'day':'transfer'].values, df['class'].values)\n",
        "X_sequence.shape, y.shape"
      ],
      "metadata": {
        "colab": {
          "base_uri": "https://localhost:8080/"
        },
        "id": "w3NNB_rP8tZ6",
        "outputId": "fc7bf007-9cb6-47af-9ed5-679806a5e848"
      },
      "execution_count": null,
      "outputs": [
        {
          "output_type": "execute_result",
          "data": {
            "text/plain": [
              "((42858, 10, 7), (42858,))"
            ]
          },
          "metadata": {},
          "execution_count": 5
        }
      ]
    },
    {
      "cell_type": "code",
      "source": [
        "#training_size = int(len(X_sequence) * 0.6)\n",
        "training_size=26223\n",
        "X_train, y_train = X_sequence[:training_size], y[:training_size]\n",
        "X_test, y_test = X_sequence[training_size:], y[training_size:]"
      ],
      "metadata": {
        "id": "kTBoo6fl83iy"
      },
      "execution_count": null,
      "outputs": []
    },
    {
      "cell_type": "code",
      "source": [
        "def plot_history(histories, key='loss'):\n",
        "  plt.figure(figsize=(6,4))\n",
        "\n",
        "  for name, history in histories:\n",
        "    val = plt.plot(history.epoch, history.history['val_'+key],\n",
        "                   '--', label=name.title()+' Val')\n",
        "    plt.plot(history.epoch, history.history[key], color=val[0].get_color(),\n",
        "             label=name.title()+' Train')\n",
        "\n",
        "  plt.xlabel('Epochs')\n",
        "  plt.ylabel(key.replace('_',' ').title())\n",
        "  plt.legend()\n",
        "\n",
        "  plt.xlim([0,max(history.epoch)])"
      ],
      "metadata": {
        "id": "ZNBi4FgY7ezB"
      },
      "execution_count": null,
      "outputs": []
    },
    {
      "cell_type": "code",
      "source": [
        "'''\n",
        "regression_GRU = Sequential()\n",
        "regression_GRU.add(GRU(units=50, activation=\"relu\",  input_shape = (X_train.shape[1], 7)))\n",
        "regression_GRU.add(Dropout(0.2))\n",
        "\n",
        "regression_GRU.add(Dense(units = 1))\n",
        "regression_GRU.compile(optimizer='adam', loss='mean_squared_error')\n",
        "'''\n",
        "import keras\n",
        "model = Sequential()\n",
        "model.add(GRU(100, input_shape = (10, 7)))\n",
        "model.add(Dropout(0.5))\n",
        "model.add(Dense(1, activation=\"sigmoid\"))\n",
        "model.compile(loss=\"binary_crossentropy\"\n",
        "              , metrics=[keras.metrics.binary_accuracy]\n",
        "              , optimizer=\"adam\")\n",
        "\n",
        "\n",
        "GRU_history = model.fit(X_train, y_train, epochs=30, batch_size=256, validation_data=(X_test, y_test))"
      ],
      "metadata": {
        "colab": {
          "base_uri": "https://localhost:8080/"
        },
        "id": "eIMWinNP6hP5",
        "outputId": "ad09b7fa-0e6b-4644-d42c-2374b3cd1ac8"
      },
      "execution_count": null,
      "outputs": [
        {
          "output_type": "stream",
          "name": "stdout",
          "text": [
            "Epoch 1/30\n",
            "103/103 [==============================] - 2s 9ms/step - loss: 0.6687 - binary_accuracy: 0.6019 - val_loss: 0.6400 - val_binary_accuracy: 0.6151\n",
            "Epoch 2/30\n",
            "103/103 [==============================] - 1s 6ms/step - loss: 0.6040 - binary_accuracy: 0.6612 - val_loss: 0.6222 - val_binary_accuracy: 0.6652\n",
            "Epoch 3/30\n",
            "103/103 [==============================] - 1s 6ms/step - loss: 0.5749 - binary_accuracy: 0.6969 - val_loss: 0.6066 - val_binary_accuracy: 0.6723\n",
            "Epoch 4/30\n",
            "103/103 [==============================] - 1s 6ms/step - loss: 0.5581 - binary_accuracy: 0.7115 - val_loss: 0.5962 - val_binary_accuracy: 0.6836\n",
            "Epoch 5/30\n",
            "103/103 [==============================] - 1s 6ms/step - loss: 0.5405 - binary_accuracy: 0.7312 - val_loss: 0.5913 - val_binary_accuracy: 0.6910\n",
            "Epoch 6/30\n",
            "103/103 [==============================] - 1s 6ms/step - loss: 0.5257 - binary_accuracy: 0.7433 - val_loss: 0.5914 - val_binary_accuracy: 0.6977\n",
            "Epoch 7/30\n",
            "103/103 [==============================] - 1s 6ms/step - loss: 0.5101 - binary_accuracy: 0.7519 - val_loss: 0.5745 - val_binary_accuracy: 0.7032\n",
            "Epoch 8/30\n",
            "103/103 [==============================] - 1s 7ms/step - loss: 0.4975 - binary_accuracy: 0.7603 - val_loss: 0.5619 - val_binary_accuracy: 0.7092\n",
            "Epoch 9/30\n",
            "103/103 [==============================] - 1s 6ms/step - loss: 0.4924 - binary_accuracy: 0.7648 - val_loss: 0.5477 - val_binary_accuracy: 0.7167\n",
            "Epoch 10/30\n",
            "103/103 [==============================] - 1s 6ms/step - loss: 0.4808 - binary_accuracy: 0.7708 - val_loss: 0.5929 - val_binary_accuracy: 0.7156\n",
            "Epoch 11/30\n",
            "103/103 [==============================] - 1s 6ms/step - loss: 0.4729 - binary_accuracy: 0.7757 - val_loss: 0.5551 - val_binary_accuracy: 0.7174\n",
            "Epoch 12/30\n",
            "103/103 [==============================] - 1s 8ms/step - loss: 0.4660 - binary_accuracy: 0.7813 - val_loss: 0.5274 - val_binary_accuracy: 0.7292\n",
            "Epoch 13/30\n",
            "103/103 [==============================] - 1s 6ms/step - loss: 0.4605 - binary_accuracy: 0.7852 - val_loss: 0.5317 - val_binary_accuracy: 0.7246\n",
            "Epoch 14/30\n",
            "103/103 [==============================] - 1s 6ms/step - loss: 0.4538 - binary_accuracy: 0.7886 - val_loss: 0.5460 - val_binary_accuracy: 0.7272\n",
            "Epoch 15/30\n",
            "103/103 [==============================] - 1s 6ms/step - loss: 0.4475 - binary_accuracy: 0.7921 - val_loss: 0.5135 - val_binary_accuracy: 0.7304\n",
            "Epoch 16/30\n",
            "103/103 [==============================] - 1s 6ms/step - loss: 0.4440 - binary_accuracy: 0.7957 - val_loss: 0.5239 - val_binary_accuracy: 0.7285\n",
            "Epoch 17/30\n",
            "103/103 [==============================] - 1s 6ms/step - loss: 0.4414 - binary_accuracy: 0.7981 - val_loss: 0.5088 - val_binary_accuracy: 0.7361\n",
            "Epoch 18/30\n",
            "103/103 [==============================] - 1s 6ms/step - loss: 0.4319 - binary_accuracy: 0.8015 - val_loss: 0.5184 - val_binary_accuracy: 0.7345\n",
            "Epoch 19/30\n",
            "103/103 [==============================] - 1s 6ms/step - loss: 0.4286 - binary_accuracy: 0.8025 - val_loss: 0.5208 - val_binary_accuracy: 0.7383\n",
            "Epoch 20/30\n",
            "103/103 [==============================] - 1s 6ms/step - loss: 0.4234 - binary_accuracy: 0.8067 - val_loss: 0.5319 - val_binary_accuracy: 0.7353\n",
            "Epoch 21/30\n",
            "103/103 [==============================] - 1s 6ms/step - loss: 0.4180 - binary_accuracy: 0.8107 - val_loss: 0.5431 - val_binary_accuracy: 0.7292\n",
            "Epoch 22/30\n",
            "103/103 [==============================] - 1s 6ms/step - loss: 0.4137 - binary_accuracy: 0.8136 - val_loss: 0.5149 - val_binary_accuracy: 0.7419\n",
            "Epoch 23/30\n",
            "103/103 [==============================] - 1s 6ms/step - loss: 0.4070 - binary_accuracy: 0.8157 - val_loss: 0.5178 - val_binary_accuracy: 0.7437\n",
            "Epoch 24/30\n",
            "103/103 [==============================] - 1s 6ms/step - loss: 0.4012 - binary_accuracy: 0.8200 - val_loss: 0.5187 - val_binary_accuracy: 0.7419\n",
            "Epoch 25/30\n",
            "103/103 [==============================] - 1s 7ms/step - loss: 0.3973 - binary_accuracy: 0.8225 - val_loss: 0.5099 - val_binary_accuracy: 0.7444\n",
            "Epoch 26/30\n",
            "103/103 [==============================] - 1s 6ms/step - loss: 0.3942 - binary_accuracy: 0.8216 - val_loss: 0.5277 - val_binary_accuracy: 0.7487\n",
            "Epoch 27/30\n",
            "103/103 [==============================] - 1s 6ms/step - loss: 0.3888 - binary_accuracy: 0.8252 - val_loss: 0.5021 - val_binary_accuracy: 0.7539\n",
            "Epoch 28/30\n",
            "103/103 [==============================] - 1s 7ms/step - loss: 0.3872 - binary_accuracy: 0.8270 - val_loss: 0.5277 - val_binary_accuracy: 0.7470\n",
            "Epoch 29/30\n",
            "103/103 [==============================] - 1s 6ms/step - loss: 0.3817 - binary_accuracy: 0.8301 - val_loss: 0.5039 - val_binary_accuracy: 0.7555\n",
            "Epoch 30/30\n",
            "103/103 [==============================] - 1s 6ms/step - loss: 0.3784 - binary_accuracy: 0.8321 - val_loss: 0.5254 - val_binary_accuracy: 0.7517\n"
          ]
        }
      ]
    },
    {
      "cell_type": "code",
      "source": [
        "from sklearn.metrics import accuracy_score, recall_score, precision_score, f1_score\n",
        "y_test_prob = model.predict(X_test, verbose=1)\n",
        "predict1 = np.where(y_test_prob > 0.5, 1, 0)"
      ],
      "metadata": {
        "colab": {
          "base_uri": "https://localhost:8080/"
        },
        "id": "CI8q4f5Oh4pQ",
        "outputId": "a468f76a-0fba-4be7-ab31-a686eba899ae"
      },
      "execution_count": null,
      "outputs": [
        {
          "output_type": "stream",
          "name": "stdout",
          "text": [
            "520/520 [==============================] - 1s 2ms/step\n"
          ]
        }
      ]
    },
    {
      "cell_type": "code",
      "source": [
        "\n",
        "#predict1=list(predict1)\n",
        "print(accuracy_score(y_test, predict1))\t\n",
        "print(recall_score(y_test, predict1))\t\n",
        "print(precision_score(y_test, predict1))\t\n",
        "print(f1_score(y_test, predict1))"
      ],
      "metadata": {
        "colab": {
          "base_uri": "https://localhost:8080/"
        },
        "id": "nWDf7y4ZlnQ8",
        "outputId": "83068006-391a-4c66-9c13-4a855d70b1a6"
      },
      "execution_count": null,
      "outputs": [
        {
          "output_type": "stream",
          "name": "stdout",
          "text": [
            "0.7516681695220919\n",
            "0.552709206644931\n",
            "0.7401247401247402\n",
            "0.6328326370989247\n"
          ]
        }
      ]
    },
    {
      "cell_type": "code",
      "source": [
        "from tensorflow.keras.layers import LSTM\n",
        "\n",
        "regression_LSTM = Sequential()\n",
        "regression_LSTM.add(LSTM(units=50, activation=\"relu\", return_sequences=True, input_shape = (X_train.shape[1], 7)))\n",
        "regression_LSTM.add(Dropout(0.2))\n",
        "regression_LSTM.add(Dense(units = 1))\n",
        "regression_LSTM.compile(optimizer='adam', loss='mean_squared_error')\n",
        "LSTM_history = regression_LSTM.fit(X_train, y_train, epochs=10, batch_size=256, validation_data=(X_test, y_test))"
      ],
      "metadata": {
        "colab": {
          "base_uri": "https://localhost:8080/"
        },
        "id": "WBamQ0qo76Ap",
        "outputId": "bf22cb01-fc7a-45df-a608-ad1d89325bb3"
      },
      "execution_count": null,
      "outputs": [
        {
          "output_type": "stream",
          "name": "stdout",
          "text": [
            "WARNING:tensorflow:Layer lstm_3 will not use cuDNN kernels since it doesn't meet the criteria. It will use a generic GPU kernel as fallback when running on GPU.\n",
            "Epoch 1/10\n",
            "103/103 [==============================] - 4s 24ms/step - loss: 0.2757 - val_loss: 0.2405\n",
            "Epoch 2/10\n",
            "103/103 [==============================] - 2s 21ms/step - loss: 0.2494 - val_loss: 0.2401\n",
            "Epoch 3/10\n",
            "103/103 [==============================] - 2s 21ms/step - loss: 0.2469 - val_loss: 0.2383\n",
            "Epoch 4/10\n",
            "103/103 [==============================] - 2s 22ms/step - loss: 0.2458 - val_loss: 0.2381\n",
            "Epoch 5/10\n",
            "103/103 [==============================] - 2s 21ms/step - loss: 0.2452 - val_loss: 0.2390\n",
            "Epoch 6/10\n",
            "103/103 [==============================] - 2s 21ms/step - loss: 0.2450 - val_loss: 0.2376\n",
            "Epoch 7/10\n",
            "103/103 [==============================] - 2s 21ms/step - loss: 0.2448 - val_loss: 0.2380\n",
            "Epoch 8/10\n",
            "103/103 [==============================] - 2s 21ms/step - loss: 0.2445 - val_loss: 0.2383\n",
            "Epoch 9/10\n",
            "103/103 [==============================] - 2s 21ms/step - loss: 0.2444 - val_loss: 0.2380\n",
            "Epoch 10/10\n",
            "103/103 [==============================] - 2s 22ms/step - loss: 0.2443 - val_loss: 0.2374\n"
          ]
        }
      ]
    },
    {
      "cell_type": "code",
      "source": [
        "plot_history([('GRU', GRU_history), ('LSTM', LSTM_history)])"
      ],
      "metadata": {
        "colab": {
          "base_uri": "https://localhost:8080/",
          "height": 279
        },
        "id": "BpKkCgv-8Fpf",
        "outputId": "abb7a73a-d695-41e3-f7af-a52fab3eda15"
      },
      "execution_count": null,
      "outputs": [
        {
          "output_type": "display_data",
          "data": {
            "text/plain": [
              "<Figure size 432x288 with 1 Axes>"
            ],
            "image/png": "[encoded data removed]"
          },
          "metadata": {
            "needs_background": "light"
          }
        }
      ]
    },
    {
      "cell_type": "code",
      "source": [
        ""
      ],
      "metadata": {
        "id": "r1A0SrdWJt5z"
      },
      "execution_count": null,
      "outputs": []
    }
  ]
}