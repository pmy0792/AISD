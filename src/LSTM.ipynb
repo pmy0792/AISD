{
  "nbformat": 4,
  "nbformat_minor": 0,
  "metadata": {
    "colab": {
      "name": "LSTM.ipynb",
      "provenance": [],
      "collapsed_sections": []
    },
    "kernelspec": {
      "name": "python3",
      "display_name": "Python 3"
    },
    "language_info": {
      "name": "python"
    },
    "accelerator": "GPU"
  },
  "cells": [
    {
      "cell_type": "code",
      "source": [
        ""
      ],
      "metadata": {
        "id": "W-2IHS2cbImC"
      },
      "execution_count": null,
      "outputs": []
    },
    {
      "cell_type": "code",
      "source": [
        "from google.colab import drive\n",
        "drive.mount('/content/drive')"
      ],
      "metadata": {
        "colab": {
          "base_uri": "https://localhost:8080/"
        },
        "id": "aEZzOKqmg7WX",
        "outputId": "40f86a3c-7601-4152-ec22-59aa14fff8f4"
      },
      "execution_count": null,
      "outputs": [
        {
          "output_type": "stream",
          "name": "stdout",
          "text": [
            "Mounted at /content/drive\n"
          ]
        }
      ]
    },
    {
      "cell_type": "code",
      "source": [
        "import pandas as pd\n",
        "import numpy as np\n",
        "import seaborn as sns\n",
        "import matplotlib.pyplot as plt\n",
        "from sklearn.model_selection import train_test_split\n",
        "from sklearn.metrics import accuracy_score"
      ],
      "metadata": {
        "id": "ovWRoVMah_Ym"
      },
      "execution_count": null,
      "outputs": []
    },
    {
      "cell_type": "code",
      "execution_count": null,
      "metadata": {
        "colab": {
          "base_uri": "https://localhost:8080/"
        },
        "id": "JrlReDPR0UTA",
        "outputId": "a09fbd17-48e0-4bc1-a42a-85e97d56fb16"
      },
      "outputs": [
        {
          "output_type": "stream",
          "name": "stderr",
          "text": [
            "/usr/local/lib/python3.7/dist-packages/statsmodels/tools/_testing.py:19: FutureWarning: pandas.util.testing is deprecated. Use the functions in the public API at pandas.testing instead.\n",
            "  import pandas.util.testing as tm\n"
          ]
        }
      ],
      "source": [
        "from statsmodels.tsa.statespace.sarimax import SARIMAX"
      ]
    },
    {
      "cell_type": "code",
      "source": [
        "df=pd.read_csv('/content/drive/MyDrive/Colab Notebooks/data_without_outliers.csv')\n",
        "\n",
        "X=df.drop(columns=['class'])\n",
        "y=df['class']\n",
        "\n",
        "train_split_ratio=0.8\n",
        "train_rows=round(X.shape[0]*train_split_ratio)\n",
        "\n",
        "\n",
        "df['class'].replace(\"UP\", 1, inplace=True)   \n",
        "df['class'].replace(\"DOWN\", 0, inplace=True)\n",
        "df=df.drop(columns=['id'])\n",
        "\n",
        "train=df[:train_rows]\n",
        "test=df[:train_rows]\n",
        "\n",
        "X_train=X[:train_rows]\n",
        "y_train=y[:train_rows]\n",
        "\n",
        "X_test=X[train_rows:]\n",
        "y_test=y[train_rows:]"
      ],
      "metadata": {
        "id": "b8mejvoxiCP5"
      },
      "execution_count": null,
      "outputs": []
    },
    {
      "cell_type": "code",
      "source": [
        "def series_to_supervised(data, n_in=1, n_out=1, dropnan=True):\n",
        "\tn_vars = 1 if type(data) is list else data.shape[1]\n",
        "\tdf = pd.DataFrame(data)\n",
        "\tcols, names = list(), list()\n",
        "\t# input sequence (t-n, ... t-1)\n",
        "\tfor i in range(n_in, 0, -1):\n",
        "\t\tcols.append(df.shift(i))\n",
        "\t\tnames += [('var%d(t-%d)' % (j+1, i)) for j in range(n_vars)]\n",
        "\t# forecast sequence (t, t+1, ... t+n)\n",
        "\tfor i in range(0, n_out):\n",
        "\t\tcols.append(df.shift(-i))\n",
        "\t\tif i == 0:\n",
        "\t\t\tnames += [('var%d(t)' % (j+1)) for j in range(n_vars)]\n",
        "\t\telse:\n",
        "\t\t\tnames += [('var%d(t+%d)' % (j+1, i)) for j in range(n_vars)]\n",
        "\t# put it all together\n",
        "\tagg = pd.concat(cols, axis=1)\n",
        "\tagg.columns = names\n",
        "\t# drop rows with NaN values\n",
        "\tif dropnan:\n",
        "\t\tagg.dropna(inplace=True)\n",
        "\treturn agg"
      ],
      "metadata": {
        "id": "v7MEqLkHkcyU"
      },
      "execution_count": null,
      "outputs": []
    },
    {
      "cell_type": "code",
      "source": [
        "reframed = series_to_supervised(df.values, 1, 1)\n",
        "values = reframed.values\n",
        "# split into input and outputs\n",
        "train=train.values\n",
        "test=test.values\n",
        "train_X, train_y = train[:1000, :-1], train[:1000, -1]\n",
        "test_X, test_y = test[1000:1200, :-1], test[1000:1200, -1]\n",
        "# reshape input to be 3D [samples, timesteps, features]\n",
        "train_X = train_X.reshape((train_X.shape[0], 1, train_X.shape[1]))\n",
        "test_X = test_X.reshape((test_X.shape[0], 1, test_X.shape[1]))\n",
        "print(train_X.shape, train_y.shape, test_X.shape, test_y.shape)"
      ],
      "metadata": {
        "colab": {
          "base_uri": "https://localhost:8080/"
        },
        "id": "1ThUOrzGkdvd",
        "outputId": "bf8d1890-99ca-4d5b-a33c-3cd0e7ce4058"
      },
      "execution_count": null,
      "outputs": [
        {
          "output_type": "stream",
          "name": "stdout",
          "text": [
            "(1000, 1, 8) (1000,) (200, 1, 8) (200,)\n"
          ]
        }
      ]
    },
    {
      "cell_type": "code",
      "source": [
        "def generate_data(X, y, sequence_length = 10, step = 1):\n",
        "    X_local = []\n",
        "    y_local = []\n",
        "    for start in range(0, len(df) - sequence_length, step):\n",
        "        end = start + sequence_length\n",
        "        X_local.append(X[start:end])\n",
        "        y_local.append(y[end-1])\n",
        "    return np.array(X_local), np.array(y_local)"
      ],
      "metadata": {
        "id": "Gz8pvm2MsTGA"
      },
      "execution_count": null,
      "outputs": []
    },
    {
      "cell_type": "code",
      "source": [
        "df.columns"
      ],
      "metadata": {
        "colab": {
          "base_uri": "https://localhost:8080/"
        },
        "id": "cGdBChS3dgNB",
        "outputId": "3233778b-fb09-4ded-bb9f-adb30007e254"
      },
      "execution_count": null,
      "outputs": [
        {
          "output_type": "execute_result",
          "data": {
            "text/plain": [
              "Index(['date', 'day', 'period', 'nswprice', 'nswdemand', 'vicprice',\n",
              "       'vicdemand', 'transfer', 'class'],\n",
              "      dtype='object')"
            ]
          },
          "metadata": {},
          "execution_count": 8
        }
      ]
    },
    {
      "cell_type": "code",
      "source": [
        "X_sequence, y = generate_data(df.loc[:,'day':'transfer'].values, df['class'].values)\n",
        "X_sequence.shape, y.shape"
      ],
      "metadata": {
        "colab": {
          "base_uri": "https://localhost:8080/"
        },
        "id": "_KimuNxyvOw8",
        "outputId": "ea4f074d-ec47-4dd8-c7a8-ba61cc95c7b2"
      },
      "execution_count": null,
      "outputs": [
        {
          "output_type": "execute_result",
          "data": {
            "text/plain": [
              "((42858, 10, 7), (42858,))"
            ]
          },
          "metadata": {},
          "execution_count": 9
        }
      ]
    },
    {
      "cell_type": "code",
      "source": [
        "import keras\n",
        "from keras.layers import LSTM, Dropout, Dense\n",
        "import tensorflow as tf\n",
        "\n",
        "model = keras.Sequential()\n",
        "model.add(LSTM(100, input_shape = (10, 7)))\n",
        "model.add(Dropout(0.5))\n",
        "model.add(Dense(1, activation=\"sigmoid\"))\n",
        "model.compile(loss=\"binary_crossentropy\"\n",
        "              , metrics=[keras.metrics.binary_accuracy]\n",
        "              , optimizer=\"adam\")\n",
        "\n",
        "model.summary()"
      ],
      "metadata": {
        "colab": {
          "base_uri": "https://localhost:8080/"
        },
        "id": "AwMmoelSteAR",
        "outputId": "a6b2d49f-2b76-4901-c392-64ad9888cf4c"
      },
      "execution_count": null,
      "outputs": [
        {
          "output_type": "stream",
          "name": "stdout",
          "text": [
            "Model: \"sequential\"\n",
            "_________________________________________________________________\n",
            " Layer (type)                Output Shape              Param #   \n",
            "=================================================================\n",
            " lstm (LSTM)                 (None, 100)               43200     \n",
            "                                                                 \n",
            " dropout (Dropout)           (None, 100)               0         \n",
            "                                                                 \n",
            " dense (Dense)               (None, 1)                 101       \n",
            "                                                                 \n",
            "=================================================================\n",
            "Total params: 43,301\n",
            "Trainable params: 43,301\n",
            "Non-trainable params: 0\n",
            "_________________________________________________________________\n"
          ]
        }
      ]
    },
    {
      "cell_type": "code",
      "source": [
        "#training_size = int(len(X_sequence) * 0.7)\n",
        "training_size=26223\n",
        "X_train, y_train = X_sequence[:training_size], y[:training_size]\n",
        "X_test, y_test = X_sequence[training_size:], y[training_size:]"
      ],
      "metadata": {
        "id": "KCut_RGJvfPT"
      },
      "execution_count": null,
      "outputs": []
    },
    {
      "cell_type": "code",
      "source": [
        "history=model.fit(X_sequence, y, batch_size=256, epochs=30)\n",
        "#history=model.fit(X_train, y_train, batch_size=256, epochs=30)"
      ],
      "metadata": {
        "colab": {
          "base_uri": "https://localhost:8080/"
        },
        "id": "m0vulxn7vlba",
        "outputId": "fc5f0b3a-c736-4ed6-cb5b-10d0b3255225"
      },
      "execution_count": null,
      "outputs": [
        {
          "output_type": "stream",
          "name": "stdout",
          "text": [
            "Epoch 1/30\n",
            "168/168 [==============================] - 8s 4ms/step - loss: 0.6598 - binary_accuracy: 0.6066\n",
            "Epoch 2/30\n",
            "168/168 [==============================] - 1s 5ms/step - loss: 0.6032 - binary_accuracy: 0.6634\n",
            "Epoch 3/30\n",
            "168/168 [==============================] - 1s 5ms/step - loss: 0.5840 - binary_accuracy: 0.6840\n",
            "Epoch 4/30\n",
            "168/168 [==============================] - 1s 4ms/step - loss: 0.5691 - binary_accuracy: 0.6986\n",
            "Epoch 5/30\n",
            "168/168 [==============================] - 1s 4ms/step - loss: 0.5527 - binary_accuracy: 0.7088\n",
            "Epoch 6/30\n",
            "168/168 [==============================] - 1s 4ms/step - loss: 0.5380 - binary_accuracy: 0.7207\n",
            "Epoch 7/30\n",
            "168/168 [==============================] - 1s 4ms/step - loss: 0.5225 - binary_accuracy: 0.7324\n",
            "Epoch 8/30\n",
            "168/168 [==============================] - 1s 4ms/step - loss: 0.5170 - binary_accuracy: 0.7361\n",
            "Epoch 9/30\n",
            "168/168 [==============================] - 1s 4ms/step - loss: 0.5045 - binary_accuracy: 0.7484\n",
            "Epoch 10/30\n",
            "168/168 [==============================] - 1s 4ms/step - loss: 0.4944 - binary_accuracy: 0.7577\n",
            "Epoch 11/30\n",
            "168/168 [==============================] - 1s 4ms/step - loss: 0.4848 - binary_accuracy: 0.7632\n",
            "Epoch 12/30\n",
            "168/168 [==============================] - 1s 4ms/step - loss: 0.4737 - binary_accuracy: 0.7699\n",
            "Epoch 13/30\n",
            "168/168 [==============================] - 1s 4ms/step - loss: 0.4671 - binary_accuracy: 0.7762\n",
            "Epoch 14/30\n",
            "168/168 [==============================] - 1s 4ms/step - loss: 0.4604 - binary_accuracy: 0.7783\n",
            "Epoch 15/30\n",
            "168/168 [==============================] - 1s 5ms/step - loss: 0.4517 - binary_accuracy: 0.7849\n",
            "Epoch 16/30\n",
            "168/168 [==============================] - 1s 5ms/step - loss: 0.4448 - binary_accuracy: 0.7903\n",
            "Epoch 17/30\n",
            "168/168 [==============================] - 1s 4ms/step - loss: 0.4390 - binary_accuracy: 0.7941\n",
            "Epoch 18/30\n",
            "168/168 [==============================] - 1s 4ms/step - loss: 0.4330 - binary_accuracy: 0.7964\n",
            "Epoch 19/30\n",
            "168/168 [==============================] - 1s 4ms/step - loss: 0.4278 - binary_accuracy: 0.7999\n",
            "Epoch 20/30\n",
            "168/168 [==============================] - 1s 4ms/step - loss: 0.4178 - binary_accuracy: 0.8049\n",
            "Epoch 21/30\n",
            "168/168 [==============================] - 1s 4ms/step - loss: 0.4159 - binary_accuracy: 0.8079\n",
            "Epoch 22/30\n",
            "168/168 [==============================] - 1s 4ms/step - loss: 0.4101 - binary_accuracy: 0.8118\n",
            "Epoch 23/30\n",
            "168/168 [==============================] - 1s 4ms/step - loss: 0.4047 - binary_accuracy: 0.8133\n",
            "Epoch 24/30\n",
            "168/168 [==============================] - 1s 4ms/step - loss: 0.4011 - binary_accuracy: 0.8156\n",
            "Epoch 25/30\n",
            "168/168 [==============================] - 1s 4ms/step - loss: 0.3963 - binary_accuracy: 0.8178\n",
            "Epoch 26/30\n",
            "168/168 [==============================] - 1s 4ms/step - loss: 0.3919 - binary_accuracy: 0.8215\n",
            "Epoch 27/30\n",
            "168/168 [==============================] - 1s 5ms/step - loss: 0.3892 - binary_accuracy: 0.8220\n",
            "Epoch 28/30\n",
            "168/168 [==============================] - 1s 4ms/step - loss: 0.3873 - binary_accuracy: 0.8239\n",
            "Epoch 29/30\n",
            "168/168 [==============================] - 1s 4ms/step - loss: 0.3842 - binary_accuracy: 0.8262\n",
            "Epoch 30/30\n",
            "168/168 [==============================] - 1s 4ms/step - loss: 0.3800 - binary_accuracy: 0.8266\n"
          ]
        }
      ]
    },
    {
      "cell_type": "code",
      "source": [
        "plt.plot(history.history['loss'], label='train')\n",
        "plt.legend()\n",
        "plt.show()"
      ],
      "metadata": {
        "colab": {
          "base_uri": "https://localhost:8080/",
          "height": 265
        },
        "id": "eqP0qFodazv-",
        "outputId": "491c9f19-04e1-49a9-8293-ac70766a1d0a"
      },
      "execution_count": null,
      "outputs": [
        {
          "output_type": "display_data",
          "data": {
            "text/plain": [
              "<Figure size 432x288 with 1 Axes>"
            ],
            "image/png": "[encoded data removed]"
          },
          "metadata": {
            "needs_background": "light"
          }
        }
      ]
    },
    {
      "cell_type": "code",
      "source": [
        "\n",
        "plt.plot(history.history['binary_accuracy'], label='binary accuracy')\n",
        "plt.xlabel('epoch')\n",
        "plt.legend()\n",
        "plt.show()"
      ],
      "metadata": {
        "colab": {
          "base_uri": "https://localhost:8080/",
          "height": 279
        },
        "id": "n1-TlHQafprN",
        "outputId": "2c36b0cb-ab25-42d7-eeb0-a40312caeb1f"
      },
      "execution_count": null,
      "outputs": [
        {
          "output_type": "display_data",
          "data": {
            "text/plain": [
              "<Figure size 432x288 with 1 Axes>"
            ],
            "image/png": "[encoded data removed]"
          },
          "metadata": {
            "needs_background": "light"
          }
        }
      ]
    },
    {
      "cell_type": "code",
      "source": [
        "model.evaluate(X_test, y_test)"
      ],
      "metadata": {
        "colab": {
          "base_uri": "https://localhost:8080/"
        },
        "id": "K4h9QZMMwGhQ",
        "outputId": "355b2c68-fd51-4027-ce7e-e800b3c8a767"
      },
      "execution_count": null,
      "outputs": [
        {
          "output_type": "stream",
          "name": "stdout",
          "text": [
            "520/520 [==============================] - 2s 3ms/step - loss: 0.3922 - binary_accuracy: 0.8168\n"
          ]
        },
        {
          "output_type": "execute_result",
          "data": {
            "text/plain": [
              "[0.3921735882759094, 0.8168320059776306]"
            ]
          },
          "metadata": {},
          "execution_count": 15
        }
      ]
    },
    {
      "cell_type": "code",
      "source": [
        "y_test_prob = model.predict(X_test, verbose=1)"
      ],
      "metadata": {
        "colab": {
          "base_uri": "https://localhost:8080/"
        },
        "id": "Nie-AhwXwHP2",
        "outputId": "62d0c7fc-509f-4c83-8ed7-dcb8cfcd5bed"
      },
      "execution_count": null,
      "outputs": [
        {
          "output_type": "stream",
          "name": "stdout",
          "text": [
            "520/520 [==============================] - 1s 2ms/step\n"
          ]
        }
      ]
    },
    {
      "cell_type": "code",
      "source": [
        "y_test_pred = np.where(y_test_prob > 0.5, 1, 0)"
      ],
      "metadata": {
        "id": "rRSXKotKwNI-"
      },
      "execution_count": null,
      "outputs": []
    },
    {
      "cell_type": "code",
      "source": [
        "from sklearn.metrics import confusion_matrix\n",
        "confusion_matrix(y_test, y_test_pred)"
      ],
      "metadata": {
        "colab": {
          "base_uri": "https://localhost:8080/"
        },
        "id": "7Si5K_ivwPbW",
        "outputId": "4a751a38-1d4b-49bb-8782-380c69d16cfa"
      },
      "execution_count": null,
      "outputs": [
        {
          "output_type": "execute_result",
          "data": {
            "text/plain": [
              "array([[9296,  898],\n",
              "       [2149, 4292]])"
            ]
          },
          "metadata": {},
          "execution_count": 18
        }
      ]
    },
    {
      "cell_type": "code",
      "source": [
        "print(accuracy_score(y_test,y_test_pred))"
      ],
      "metadata": {
        "colab": {
          "base_uri": "https://localhost:8080/"
        },
        "id": "9dwvbvaYwSPJ",
        "outputId": "3e6852e8-050a-4300-ec30-9119aaec6874"
      },
      "execution_count": null,
      "outputs": [
        {
          "output_type": "stream",
          "name": "stdout",
          "text": [
            "0.8168319807634505\n"
          ]
        }
      ]
    },
    {
      "cell_type": "markdown",
      "source": [
        "=================================================================="
      ],
      "metadata": {
        "id": "fgcswrW9jlZM"
      }
    },
    {
      "cell_type": "code",
      "source": [
        "from sklearn.metrics import accuracy_score, recall_score, precision_score, f1_score\n",
        "print(accuracy_score(y_test, y_test_pred))\t\n",
        "print(recall_score(y_test, y_test_pred))\t\n",
        "print(precision_score(y_test, y_test_pred))\t\n",
        "print(f1_score(y_test, y_test_pred))"
      ],
      "metadata": {
        "colab": {
          "base_uri": "https://localhost:8080/"
        },
        "id": "TSL9obLUvgFj",
        "outputId": "e3c76108-1a69-4e55-fcbd-c210dceced3c"
      },
      "execution_count": null,
      "outputs": [
        {
          "output_type": "stream",
          "name": "stdout",
          "text": [
            "0.8168319807634505\n",
            "0.6663561558764167\n",
            "0.8269749518304431\n",
            "0.7380276846358869\n"
          ]
        }
      ]
    }
  ]
}