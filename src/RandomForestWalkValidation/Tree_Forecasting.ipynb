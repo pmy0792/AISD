{
  "nbformat": 4,
  "nbformat_minor": 0,
  "metadata": {
    "colab": {
      "name": "Tree Forecasting.ipynb",
      "provenance": [],
      "collapsed_sections": []
    },
    "kernelspec": {
      "name": "python3",
      "display_name": "Python 3"
    },
    "language_info": {
      "name": "python"
    }
  },
  "cells": [
    {
      "cell_type": "code",
      "source": [
        "pip install scikit-learn"
      ],
      "metadata": {
        "colab": {
          "base_uri": "https://localhost:8080/"
        },
        "id": "fH73HT0cCAdf",
        "outputId": "41837804-99bc-4151-bacb-204852043ed8"
      },
      "execution_count": 1,
      "outputs": [
        {
          "output_type": "stream",
          "name": "stdout",
          "text": [
            "Looking in indexes: https://pypi.org/simple, https://us-python.pkg.dev/colab-wheels/public/simple/\n",
            "Requirement already satisfied: scikit-learn in /usr/local/lib/python3.7/dist-packages (1.0.2)\n",
            "Requirement already satisfied: threadpoolctl>=2.0.0 in /usr/local/lib/python3.7/dist-packages (from scikit-learn) (3.1.0)\n",
            "Requirement already satisfied: joblib>=0.11 in /usr/local/lib/python3.7/dist-packages (from scikit-learn) (1.1.0)\n",
            "Requirement already satisfied: numpy>=1.14.6 in /usr/local/lib/python3.7/dist-packages (from scikit-learn) (1.21.6)\n",
            "Requirement already satisfied: scipy>=1.1.0 in /usr/local/lib/python3.7/dist-packages (from scikit-learn) (1.4.1)\n"
          ]
        }
      ]
    },
    {
      "cell_type": "code",
      "source": [
        "import pandas as pd\n",
        "import numpy as np\n",
        "from sklearn.metrics import mean_absolute_error\n",
        "from sklearn.ensemble import RandomForestClassifier\n",
        "from sklearn.metrics import confusion_matrix\n",
        "from matplotlib import pyplot\n",
        "\n",
        "from google.colab import drive\n",
        "drive.mount('/content/drive')"
      ],
      "metadata": {
        "colab": {
          "base_uri": "https://localhost:8080/"
        },
        "id": "MDbY4n6H8VO-",
        "outputId": "5027dcc5-3fe6-4476-cd50-d2f7cc384fb8"
      },
      "execution_count": 2,
      "outputs": [
        {
          "output_type": "stream",
          "name": "stdout",
          "text": [
            "Mounted at /content/drive\n"
          ]
        }
      ]
    },
    {
      "cell_type": "code",
      "source": [
        "# transform a time series dataset into a supervised learning dataset\n",
        "def series_to_supervised(data, n_in=1, n_out=1, dropnan=True):\n",
        "\tn_vars = 1 if type(data) is list else data.shape[1]\n",
        "\tdf = pd.DataFrame(data)\n",
        "\tcols = list()\n",
        "\t# input sequence (t-n, ... t-1)\n",
        "\tfor i in range(n_in, 0, -1):\n",
        "\t\tcols.append(df.shift(i))\n",
        "\t# forecast sequence (t, t+1, ... t+n)\n",
        "\tfor i in range(0, n_out):\n",
        "\t\tcols.append(df.shift(-i))\n",
        "\t# put it all together\n",
        "\tagg = pd.concat(cols, axis=1)\n",
        "\t# drop rows with NaN values\n",
        "\tif dropnan:\n",
        "\t\tagg.dropna(inplace=True)\n",
        "\treturn agg.values"
      ],
      "metadata": {
        "id": "FkKrYis--Dnp"
      },
      "execution_count": 3,
      "outputs": []
    },
    {
      "cell_type": "code",
      "source": [
        "# split a univariate dataset into train/test sets\n",
        "def train_test_split(data, n_test):\n",
        "\treturn data[:-n_test, :], data[-n_test:, :]"
      ],
      "metadata": {
        "id": "CKas4PCfBJmT"
      },
      "execution_count": 4,
      "outputs": []
    },
    {
      "cell_type": "code",
      "source": [
        "# fit an random forest model and make a one step prediction\n",
        "def random_forest_forecast(train, testX):\n",
        "    # transform list into array\n",
        "    train = np.asarray(train)\n",
        "    # split into input and output columns\n",
        "    trainX, trainy = train[:, :-1], train[:, -1]\n",
        "    # fit model\n",
        "    model = RandomForestClassifier(n_estimators=1000)\n",
        "    model.fit(trainX, trainy)\n",
        "    # make a one-step prediction\n",
        "    yhat = model.predict([testX])\n",
        "    return yhat[0]"
      ],
      "metadata": {
        "id": "yoBjLicDBdjl"
      },
      "execution_count": 5,
      "outputs": []
    },
    {
      "cell_type": "code",
      "source": [
        "# walk-forward validation for univariate data\n",
        "def walk_forward_validation(data, n_test):\n",
        "    predictions = list()\n",
        "    # split dataset\n",
        "    train, test = train_test_split(data, n_test)\n",
        "    # seed history with training dataset\n",
        "    history = [x for x in train]\n",
        "    # step over each time-step in the test set\n",
        "    for i in range(n_test):\n",
        "      # define new test sample fromo previous history and test[i] parameters\n",
        "      new_test = np.append(history[-1][8:], test[i, -8:])\n",
        "      # split test row into input and output columns\n",
        "      testX, testy = new_test[:-1], new_test[-1]\n",
        "      # fit model on history and make a prediction\n",
        "      yhat = random_forest_forecast(history, testX)\n",
        "      # store forecast in list of predictions\n",
        "      predictions.append(yhat)\n",
        "      # add actual observation to history for the next loop\n",
        "      new_test[-1] = yhat\n",
        "      history.append(new_test)\n",
        "      # summarize progress\n",
        "      print('%d >expected=%.1f, predicted=%.1f' % (i, testy, yhat))\n",
        "    # estimate prediction error\n",
        "    #error = mean_absolute_error(test[:, -1], predictions)\n",
        "    return test[:, -1], predictions"
      ],
      "metadata": {
        "id": "DLD-MO2XAyYn"
      },
      "execution_count": 6,
      "outputs": []
    },
    {
      "cell_type": "code",
      "source": [
        "df = pd.read_csv('/content/drive/MyDrive/electricity_Dataset/original/14 Week.csv', \n",
        "                 usecols= ['day','period', 'nswprice', 'nswdemand', 'vicprice', 'vicdemand', 'transfer', 'class'])\n",
        "df[\"class\"] = df[\"class\"].map({\"UP\": 1, \"DOWN\": 2})\n",
        "\n",
        "data = series_to_supervised(df, 48)"
      ],
      "metadata": {
        "id": "Sp6gJGl88olr"
      },
      "execution_count": 7,
      "outputs": []
    },
    {
      "cell_type": "code",
      "source": [
        "# evaluate\n",
        "test_size = 48\n",
        "y_true, y_pred = walk_forward_validation(data, test_size)\n",
        "# plot expected vs predicted\n",
        "pyplot.plot(y_true, label='Expected')\n",
        "pyplot.plot(y_pred, label='Predicted')\n",
        "pyplot.legend()\n",
        "pyplot.show()\n",
        "print(confusion_matrix(y_true, y_pred))\n",
        "print(1 - np.mean( y_true != y_pred ))"
      ],
      "metadata": {
        "id": "pSGVvUkwDs_b"
      },
      "execution_count": null,
      "outputs": []
    }
  ]
}