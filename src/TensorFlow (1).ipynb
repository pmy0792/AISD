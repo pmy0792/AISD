{
  "nbformat": 4,
  "nbformat_minor": 0,
  "metadata": {
    "colab": {
      "name": "TensorFlow.ipynb",
      "provenance": [],
      "collapsed_sections": []
    },
    "kernelspec": {
      "name": "python3",
      "display_name": "Python 3"
    },
    "language_info": {
      "name": "python"
    }
  },
  "cells": [
    {
      "cell_type": "code",
      "execution_count": null,
      "metadata": {
        "colab": {
          "base_uri": "https://localhost:8080/"
        },
        "id": "qYksmmSVNI_5",
        "outputId": "6c183abe-3ce5-4633-e278-4cb60a346400"
      },
      "outputs": [
        {
          "output_type": "stream",
          "name": "stdout",
          "text": [
            "Mounted at /content/drive\n"
          ]
        }
      ],
      "source": [
        "from google.colab import drive\n",
        "drive.mount('/content/drive')"
      ]
    },
    {
      "cell_type": "code",
      "source": [
        "import pandas as pd\n",
        "import numpy as np\n",
        "import seaborn as sns\n",
        "import matplotlib.pyplot as plt\n",
        "from sklearn.model_selection import train_test_split"
      ],
      "metadata": {
        "id": "F0lLbQlgRJYG"
      },
      "execution_count": null,
      "outputs": []
    },
    {
      "cell_type": "code",
      "source": [
        "df=pd.read_csv('/content/drive/MyDrive/Colab Notebooks/data_without_outliers.csv')"
      ],
      "metadata": {
        "id": "UUpXCk6_RJ2i"
      },
      "execution_count": null,
      "outputs": []
    },
    {
      "cell_type": "code",
      "source": [
        "df['class'].replace(\"UP\", 1, inplace=True)   \n",
        "df['class'].replace(\"DOWN\", 0, inplace=True)"
      ],
      "metadata": {
        "id": "IC3lKoU6RWXo"
      },
      "execution_count": null,
      "outputs": []
    },
    {
      "cell_type": "code",
      "source": [
        "y=df['class']\n",
        "X=df.drop(columns=['class','id'])"
      ],
      "metadata": {
        "id": "0d3auEh3UUVs"
      },
      "execution_count": null,
      "outputs": []
    },
    {
      "cell_type": "code",
      "source": [
        "X.shape[0]"
      ],
      "metadata": {
        "colab": {
          "base_uri": "https://localhost:8080/"
        },
        "id": "TqTzhET9cTnf",
        "outputId": "8500ca45-543e-42b1-92be-8dbeaedf4d30"
      },
      "execution_count": null,
      "outputs": [
        {
          "output_type": "execute_result",
          "data": {
            "text/plain": [
              "42868"
            ]
          },
          "metadata": {},
          "execution_count": 6
        }
      ]
    },
    {
      "cell_type": "code",
      "source": [
        "train_split_ratio=0.8\n",
        "train_rows=round(X.shape[0]*train_split_ratio)\n",
        "\n",
        "\n",
        "X_train=X[:train_rows]\n",
        "y_train=y[:train_rows]\n",
        "\n",
        "X_test=X[train_rows:]\n",
        "y_test=y[train_rows:]\n"
      ],
      "metadata": {
        "id": "Pl4ciXarcGnJ"
      },
      "execution_count": null,
      "outputs": []
    },
    {
      "cell_type": "code",
      "source": [
        "X_train.shape"
      ],
      "metadata": {
        "colab": {
          "base_uri": "https://localhost:8080/"
        },
        "id": "Nw-Piir3dLeZ",
        "outputId": "b7fdc821-0be8-4efa-f6c6-edd8cc105ad6"
      },
      "execution_count": null,
      "outputs": [
        {
          "output_type": "execute_result",
          "data": {
            "text/plain": [
              "(34294, 8)"
            ]
          },
          "metadata": {},
          "execution_count": 8
        }
      ]
    },
    {
      "cell_type": "code",
      "source": [
        "X_train.info()"
      ],
      "metadata": {
        "colab": {
          "base_uri": "https://localhost:8080/"
        },
        "id": "QzMDhrdSZESE",
        "outputId": "8639c91b-9467-45c8-df94-60892292dcb5"
      },
      "execution_count": null,
      "outputs": [
        {
          "output_type": "stream",
          "name": "stdout",
          "text": [
            "<class 'pandas.core.frame.DataFrame'>\n",
            "RangeIndex: 34294 entries, 0 to 34293\n",
            "Data columns (total 8 columns):\n",
            " #   Column     Non-Null Count  Dtype  \n",
            "---  ------     --------------  -----  \n",
            " 0   date       34294 non-null  float64\n",
            " 1   day        34294 non-null  int64  \n",
            " 2   period     34294 non-null  float64\n",
            " 3   nswprice   34294 non-null  float64\n",
            " 4   nswdemand  34294 non-null  float64\n",
            " 5   vicprice   34294 non-null  float64\n",
            " 6   vicdemand  34294 non-null  float64\n",
            " 7   transfer   34294 non-null  float64\n",
            "dtypes: float64(7), int64(1)\n",
            "memory usage: 2.1 MB\n"
          ]
        }
      ]
    },
    {
      "cell_type": "code",
      "source": [
        "from sklearn.metrics import accuracy_score\n",
        "import tensorflow as tf\n",
        "from tensorflow import keras"
      ],
      "metadata": {
        "id": "hXf7-sAjRdmG"
      },
      "execution_count": null,
      "outputs": []
    },
    {
      "cell_type": "code",
      "source": [
        "print(tf.__version__)"
      ],
      "metadata": {
        "colab": {
          "base_uri": "https://localhost:8080/"
        },
        "id": "YWYspcHyRh3L",
        "outputId": "b0b62447-31e8-4322-df0d-579487762089"
      },
      "execution_count": null,
      "outputs": [
        {
          "output_type": "stream",
          "name": "stdout",
          "text": [
            "2.8.0\n"
          ]
        }
      ]
    },
    {
      "cell_type": "code",
      "source": [
        "model=keras.Sequential([\n",
        "                        keras.layers.Dense(128,activation='relu'),\n",
        "                        keras.layers.Dense(10,activation='softmax')\n",
        "])"
      ],
      "metadata": {
        "id": "1PvjMJPSR88A"
      },
      "execution_count": null,
      "outputs": []
    },
    {
      "cell_type": "code",
      "source": [
        "model.compile(optimizer='adam',\n",
        "              loss='sparse_categorical_crossentropy',\n",
        "              metrics=['accuracy'])"
      ],
      "metadata": {
        "id": "zGaadma0SOYg"
      },
      "execution_count": null,
      "outputs": []
    },
    {
      "cell_type": "code",
      "source": [
        "model.fit(X_train,y_train,epochs=10)"
      ],
      "metadata": {
        "colab": {
          "base_uri": "https://localhost:8080/"
        },
        "id": "GjgHccZXSWmv",
        "outputId": "b623a652-7fc1-47ab-b90e-49aafec25652"
      },
      "execution_count": null,
      "outputs": [
        {
          "output_type": "stream",
          "name": "stdout",
          "text": [
            "Epoch 1/10\n",
            "1072/1072 [==============================] - 3s 2ms/step - loss: 0.6504 - accuracy: 0.6514\n",
            "Epoch 2/10\n",
            "1072/1072 [==============================] - 2s 2ms/step - loss: 0.5512 - accuracy: 0.7210\n",
            "Epoch 3/10\n",
            "1072/1072 [==============================] - 2s 2ms/step - loss: 0.5099 - accuracy: 0.7529\n",
            "Epoch 4/10\n",
            "1072/1072 [==============================] - 2s 2ms/step - loss: 0.4900 - accuracy: 0.7648\n",
            "Epoch 5/10\n",
            "1072/1072 [==============================] - 2s 2ms/step - loss: 0.4808 - accuracy: 0.7682\n",
            "Epoch 6/10\n",
            "1072/1072 [==============================] - 2s 2ms/step - loss: 0.4781 - accuracy: 0.7695\n",
            "Epoch 7/10\n",
            "1072/1072 [==============================] - 2s 2ms/step - loss: 0.4739 - accuracy: 0.7717\n",
            "Epoch 8/10\n",
            "1072/1072 [==============================] - 2s 2ms/step - loss: 0.4722 - accuracy: 0.7728\n",
            "Epoch 9/10\n",
            "1072/1072 [==============================] - 2s 2ms/step - loss: 0.4719 - accuracy: 0.7735\n",
            "Epoch 10/10\n",
            "1072/1072 [==============================] - 2s 2ms/step - loss: 0.4698 - accuracy: 0.7745\n"
          ]
        },
        {
          "output_type": "execute_result",
          "data": {
            "text/plain": [
              "<keras.callbacks.History at 0x7f24f1b2f810>"
            ]
          },
          "metadata": {},
          "execution_count": 14
        }
      ]
    },
    {
      "cell_type": "code",
      "source": [
        "test_loss,test_acc=model.evaluate(X_test,y_test,verbose=3)\n",
        "print(\"Accuracy:\",test_acc)"
      ],
      "metadata": {
        "colab": {
          "base_uri": "https://localhost:8080/"
        },
        "id": "okIbKCpXSacz",
        "outputId": "654b4226-c8b5-41e6-fc8c-46d6813819d6"
      },
      "execution_count": null,
      "outputs": [
        {
          "output_type": "stream",
          "name": "stdout",
          "text": [
            "Accuracy: 0.6565197110176086\n"
          ]
        }
      ]
    },
    {
      "cell_type": "code",
      "source": [
        ""
      ],
      "metadata": {
        "id": "bRuBqkRRSmUx"
      },
      "execution_count": null,
      "outputs": []
    }
  ]
}